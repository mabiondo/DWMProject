{
 "cells": [
  {
   "cell_type": "markdown",
   "source": [
    "# Support Vector Regressor MODEL\n"
   ],
   "metadata": {
    "collapsed": false,
    "pycharm": {
     "name": "#%% md\n"
    }
   }
  },
  {
   "cell_type": "code",
   "execution_count": 2,
   "outputs": [
    {
     "name": "stderr",
     "output_type": "stream",
     "text": [
      "Intel(R) Extension for Scikit-learn* enabled (https://github.com/intel/scikit-learn-intelex)\n"
     ]
    }
   ],
   "source": [
    "import pandas as pd\n",
    "import numpy as np\n",
    "\n",
    "# For imports\n",
    "from notebooks import utility\n",
    "import importlib\n",
    "\n",
    "# For optimization\n",
    "from sklearnex import patch_sklearn\n",
    "patch_sklearn()"
   ],
   "metadata": {
    "collapsed": false,
    "pycharm": {
     "name": "#%%\n"
    }
   }
  },
  {
   "cell_type": "markdown",
   "source": [
    "## Data import\n",
    "Let's import the data that was previously cleaned"
   ],
   "metadata": {
    "collapsed": false,
    "pycharm": {
     "name": "#%% md\n"
    }
   },
   "outputs": [
    {
     "ename": "SyntaxError",
     "evalue": "EOL while scanning string literal (2215639403.py, line 2)",
     "output_type": "error",
     "traceback": [
      "\u001B[1;36m  Input \u001B[1;32mIn [1]\u001B[1;36m\u001B[0m\n\u001B[1;33m    Let's import the data that was previously cleaned\u001B[0m\n\u001B[1;37m                                                     ^\u001B[0m\n\u001B[1;31mSyntaxError\u001B[0m\u001B[1;31m:\u001B[0m EOL while scanning string literal\n"
     ]
    }
   ],
   "execution_count": 1
  },
  {
   "cell_type": "code",
   "execution_count": 3,
   "outputs": [],
   "source": [
    "X_train = pd.read_csv(\"../DWMProjectData/formodel/X_train.csv\")\n",
    "y_train = pd.read_csv(\"../DWMProjectData/formodel/y_train.csv\")\n",
    "X_valid = pd.read_csv(\"../DWMProjectData/formodel/X_valid.csv\")\n",
    "y_valid = pd.read_csv(\"../DWMProjectData/formodel/y_valid.csv\")\n",
    "X_test = pd.read_csv(\"../DWMProjectData/formodel/X_test.csv\")\n",
    "y_test = pd.read_csv(\"../DWMProjectData/formodel/y_test.csv\")\n",
    "# Transform all y in a 1-dimensional array - required to avoid warning in model building\n",
    "y_train = np.ravel(y_train)\n",
    "y_valid = np.ravel(y_valid)\n",
    "y_test = np.ravel(y_test)"
   ],
   "metadata": {
    "collapsed": false,
    "pycharm": {
     "name": "#%%\n"
    }
   }
  },
  {
   "cell_type": "markdown",
   "source": [
    "## Scale data\n",
    "For SVR, data scaling bring to much better results, although it is not strictly required. The reasons for this can be found [here](https://www.baeldung.com/cs/svm-feature-scaling) and [here](https://scikit-learn.org/stable/modules/svm.html) (They refears to SVM but for regression the reason are the same)"
   ],
   "metadata": {
    "collapsed": false,
    "pycharm": {
     "name": "#%% md\n"
    }
   }
  },
  {
   "cell_type": "code",
   "execution_count": 4,
   "outputs": [],
   "source": [
    "from utility import scale\n",
    "importlib.reload(utility)\n",
    "X_train, X_valid, X_test = scale(X_train, X_valid, X_test)"
   ],
   "metadata": {
    "collapsed": false,
    "pycharm": {
     "name": "#%%\n"
    }
   }
  },
  {
   "cell_type": "markdown",
   "source": [
    "## Score function\n",
    "\n",
    "I defined the score functions used for the regression. For a more clear approach I wrote the function `print_metrics` in the file `utility.py` In particular, I decided to write a function that prints the following values to compare models:\n",
    "- mean absolute error\n",
    "- mean squared error\n",
    "- $r^2$, where the best score is 1, good is above 0.7\n",
    "- explained variance score, where the best score is 1"
   ],
   "metadata": {
    "collapsed": false,
    "pycharm": {
     "name": "#%% md\n"
    }
   }
  },
  {
   "cell_type": "code",
   "execution_count": 5,
   "outputs": [
    {
     "data": {
      "text/plain": "<module 'notebooks.utility' from 'C:\\\\Users\\\\marco\\\\Documents\\\\UNI\\\\Y3\\\\DataWebMining\\\\project\\\\DWMProject\\\\notebooks\\\\utility.py'>"
     },
     "execution_count": 5,
     "metadata": {},
     "output_type": "execute_result"
    }
   ],
   "source": [
    "from utility import print_metrics\n",
    "importlib.reload(utility)"
   ],
   "metadata": {
    "collapsed": false,
    "pycharm": {
     "name": "#%%\n"
    }
   }
  },
  {
   "cell_type": "markdown",
   "source": [
    "## Model building"
   ],
   "metadata": {
    "collapsed": false,
    "pycharm": {
     "name": "#%% md\n"
    }
   }
  },
  {
   "cell_type": "code",
   "execution_count": 6,
   "outputs": [
    {
     "name": "stdout",
     "output_type": "stream",
     "text": [
      "+--------------------------+--------+\n",
      "|          Method          | Value  |\n",
      "+==========================+========+\n",
      "| mean absolute error      | 0.078  |\n",
      "+--------------------------+--------+\n",
      "| mean squared error       | 0.031  |\n",
      "+--------------------------+--------+\n",
      "| r^2                      | -0.013 |\n",
      "+--------------------------+--------+\n",
      "| explained variance score | -0.012 |\n",
      "+--------------------------+--------+\n"
     ]
    }
   ],
   "source": [
    "from sklearn.svm import SVR\n",
    "model_base = SVR(verbose=True)\n",
    "\n",
    "model_base.fit(X_train, y_train)\n",
    "print_metrics(y_test, model_base.predict(X_test))"
   ],
   "metadata": {
    "collapsed": false,
    "pycharm": {
     "name": "#%%\n"
    }
   }
  },
  {
   "cell_type": "markdown",
   "source": [
    "Here GridSearch is way too slow, so I opted for RandomizedSearch for parameter tuning"
   ],
   "metadata": {
    "collapsed": false,
    "pycharm": {
     "name": "#%% md\n"
    }
   }
  },
  {
   "cell_type": "code",
   "execution_count": 8,
   "outputs": [
    {
     "name": "stdout",
     "output_type": "stream",
     "text": [
      "Fitting 5 folds for each of 5 candidates, totalling 25 fits\n",
      "[CV 1/5] END ..............C=0.1, kernel=linear;, score=0.002 total time=   7.0s\n",
      "[CV 2/5] END .............C=0.1, kernel=linear;, score=-0.000 total time=   6.1s\n",
      "[CV 3/5] END ..............C=0.1, kernel=linear;, score=0.002 total time=   6.6s\n",
      "[CV 4/5] END ..............C=0.1, kernel=linear;, score=0.001 total time=   5.3s\n",
      "[CV 5/5] END ..............C=0.1, kernel=linear;, score=0.003 total time=   5.1s\n",
      "[CV 1/5] END ...C=100, kernel=sigmoid;, score=-5282389040.299 total time=  20.5s\n",
      "[CV 2/5] END ...C=100, kernel=sigmoid;, score=-5324908737.687 total time=  18.7s\n",
      "[CV 3/5] END ...C=100, kernel=sigmoid;, score=-7377524383.201 total time=  25.5s\n",
      "[CV 4/5] END ...C=100, kernel=sigmoid;, score=-3804498421.723 total time=  18.4s\n",
      "[CV 5/5] END ...C=100, kernel=sigmoid;, score=-4126266682.532 total time=  20.0s\n",
      "[CV 1/5] END .................C=1, kernel=poly;, score=-2.998 total time=  19.6s\n",
      "[CV 2/5] END .................C=1, kernel=poly;, score=-1.003 total time=  15.7s\n",
      "[CV 3/5] END .................C=1, kernel=poly;, score=-0.115 total time=  13.0s\n",
      "[CV 4/5] END .................C=1, kernel=poly;, score=-0.055 total time=  14.6s\n",
      "[CV 5/5] END .................C=1, kernel=poly;, score=-0.015 total time=  13.3s\n",
      "[CV 1/5] END .................C=10, kernel=rbf;, score=-0.014 total time=  42.4s\n",
      "[CV 2/5] END ..................C=10, kernel=rbf;, score=0.009 total time=  47.7s\n",
      "[CV 3/5] END .................C=10, kernel=rbf;, score=-0.041 total time=  54.9s\n",
      "[CV 4/5] END .................C=10, kernel=rbf;, score=-0.029 total time= 1.7min\n",
      "[CV 5/5] END ..................C=10, kernel=rbf;, score=0.002 total time=  56.1s\n",
      "[CV 1/5] END .........C=1, kernel=sigmoid;, score=-492147.492 total time=  30.0s\n",
      "[CV 2/5] END .........C=1, kernel=sigmoid;, score=-530841.480 total time=  26.6s\n",
      "[CV 3/5] END .........C=1, kernel=sigmoid;, score=-743462.427 total time=  24.5s\n",
      "[CV 4/5] END .........C=1, kernel=sigmoid;, score=-385516.938 total time=  31.4s\n",
      "[CV 5/5] END .........C=1, kernel=sigmoid;, score=-413790.663 total time=  27.1s\n",
      "Best params are {'kernel': 'linear', 'C': 0.1}\n"
     ]
    }
   ],
   "source": [
    "from sklearn.model_selection import RandomizedSearchCV, GridSearchCV\n",
    "\n",
    "param_grid = {\n",
    "    \"kernel\": [\"linear\", \"poly\", \"rbf\", \"sigmoid\"],\n",
    "    \"C\": [0.1, 1, 10, 100]\n",
    "}\n",
    "\n",
    "model_fitted = RandomizedSearchCV(model_base, param_grid, n_jobs=1, n_iter=5, verbose=4)\n",
    "# model_fitted = GridSearchCV(model_base, param_grid, n_jobs=1, verbose=4)\n",
    "\n",
    "model_fitted.fit(X_train, y_train)\n",
    "print(f\"Best params are {model_fitted.best_params_}\")"
   ],
   "metadata": {
    "collapsed": false,
    "pycharm": {
     "name": "#%%\n"
    }
   }
  },
  {
   "cell_type": "markdown",
   "source": [
    "## Model re-building with best parameters + Metrics"
   ],
   "metadata": {
    "collapsed": false,
    "pycharm": {
     "name": "#%% md\n"
    }
   }
  },
  {
   "cell_type": "code",
   "execution_count": 11,
   "outputs": [
    {
     "name": "stdout",
     "output_type": "stream",
     "text": [
      "+--------------------------+--------+\n",
      "|          Method          | Value  |\n",
      "+==========================+========+\n",
      "| mean absolute error      | 0.073  |\n",
      "+--------------------------+--------+\n",
      "| mean squared error       | 0.030  |\n",
      "+--------------------------+--------+\n",
      "| r^2                      | -0.004 |\n",
      "+--------------------------+--------+\n",
      "| explained variance score | -0.004 |\n",
      "+--------------------------+--------+\n"
     ]
    }
   ],
   "source": [
    "model_final = SVR(**model_fitted.best_params_)\n",
    "\n",
    "X_train_n =np.concatenate([X_train, X_valid])\n",
    "y_train_n = np.concatenate([y_train, y_valid])\n",
    "\n",
    "model_final.fit(X_train_n, y_train_n)\n",
    "print_metrics(y_test, model_final.predict(X_test))"
   ],
   "metadata": {
    "collapsed": false,
    "pycharm": {
     "name": "#%%\n"
    }
   }
  }
 ],
 "metadata": {
  "kernelspec": {
   "display_name": "Python 3",
   "language": "python",
   "name": "python3"
  },
  "language_info": {
   "codemirror_mode": {
    "name": "ipython",
    "version": 2
   },
   "file_extension": ".py",
   "mimetype": "text/x-python",
   "name": "python",
   "nbconvert_exporter": "python",
   "pygments_lexer": "ipython2",
   "version": "2.7.6"
  }
 },
 "nbformat": 4,
 "nbformat_minor": 0
}