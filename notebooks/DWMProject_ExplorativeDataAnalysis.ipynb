{
 "nbformat": 4,
 "nbformat_minor": 0,
 "metadata": {
  "colab": {
   "name": "DWMProject-ExplorativeDataAnalysis.ipynb",
   "provenance": [],
   "collapsed_sections": []
  },
  "kernelspec": {
   "name": "python3",
   "display_name": "Python 3"
  },
  "language_info": {
   "name": "python"
  }
 },
 "cells": [
  {
   "cell_type": "code",
   "source": [
    "# Mount drive\n",
    "# from google.colab import drive\n",
    "# drive.mount('/content/drive')"
   ],
   "metadata": {
    "colab": {
     "base_uri": "https://localhost:8080/"
    },
    "id": "9oVpjWGeyjle",
    "outputId": "21d1e093-b35f-4d46-9b7e-2c14f6d62c2b"
   },
   "execution_count": 13,
   "outputs": [
    {
     "output_type": "stream",
     "name": "stdout",
     "text": [
      "Drive already mounted at /content/drive; to attempt to forcibly remount, call drive.mount(\"/content/drive\", force_remount=True).\n"
     ]
    }
   ]
  },
  {
   "cell_type": "code",
   "source": [
    "# Import useful libraries\n",
    "import pandas as pd\n",
    "import numpy as np\n",
    "import sys, importlib\n",
    "# import utility\n",
    "\n",
    "env = 'dev'"
   ],
   "metadata": {
    "id": "qtDe-grRxsNy"
   },
   "execution_count": 1,
   "outputs": []
  },
  {
   "cell_type": "markdown",
   "source": [
    "# DWM project - Explorative Data Analysis"
   ],
   "metadata": {
    "id": "D72M7u2jw-VW"
   }
  },
  {
   "cell_type": "markdown",
   "source": [
    "The aim of this notebook is to \n",
    "- understand the data structure \n",
    "- understand all possible issues on the data that can compromise the model creation phase\n",
    "- try to solve the forementioned issues\n",
    "\n",
    "In order to make this analysis as clear and self-explanatory as possible, I'll try to use many graphical representations.\n",
    "Many ideas on graphs are taken from the professor classes, kaggle competitions and from the internet, especially from Towards Data Science."
   ],
   "metadata": {
    "id": "kA9haOIdw82M"
   }
  },
  {
   "cell_type": "markdown",
   "source": [
    "### Let's start by importing the data\n",
    "I put all properties data into a dataframe and all transaction data into another.\n",
    "The analysis is done on all properties and all transactions, because\n",
    "1. it's more data in which make statistics (and we know that more data implies better statistics)\n",
    "2. I see no reason to take them independently, they are just homes, and because of the short temporal span I assume that they don't change their features.\n",
    "\n",
    "Due to the lack of powerful hardware to make the computation, I decided to take only a part of the whole dataset, that is 100k house properties out of almost 3M for both `properties_2016` and `properties_2017`. This was decided after having found that the time for even easy computation was too long.\n",
    "This of course came at the cost of considerations and models that can be not as good as the ones created with the whole dataset; however the process is the same."
   ],
   "metadata": {
    "id": "schARwmrx182"
   }
  },
  {
   "cell_type": "code",
   "source": [
    "# Read data\n",
    "n = 100000\n",
    "properties_2016 = pd.read_csv(\"../DWMProjectData/properties_2016.csv\", nrows = n)\n",
    "properties_2017 = pd.read_csv(\"../DWMProjectData/properties_2017.csv\", nrows = n)\n",
    "transactions_2016 = pd.read_csv(\"../DWMProjectData/train_2016_v2.csv\")\n",
    "transactions_2017 = pd.read_csv(\"../DWMProjectData/train_2017.csv\")"
   ],
   "metadata": {
    "colab": {
     "base_uri": "https://localhost:8080/"
    },
    "id": "dSOZsCF5y2mI",
    "outputId": "b4010381-b20a-49a7-eb38-e43a2af945ca"
   },
   "execution_count": 12,
   "outputs": [
    {
     "name": "stderr",
     "output_type": "stream",
     "text": [
      "C:\\Users\\marco\\anaconda3\\envs\\DWMProject\\lib\\site-packages\\IPython\\core\\interactiveshell.py:3251: DtypeWarning: Columns (49) have mixed types.Specify dtype option on import or set low_memory=False.\n",
      "  exec(code_obj, self.user_global_ns, self.user_ns)\n"
     ]
    }
   ]
  },
  {
   "cell_type": "markdown",
   "source": [
    "A warning is raised due to some columns of type object and with NaN value: I'll handle this later."
   ],
   "metadata": {
    "collapsed": false
   }
  },
  {
   "cell_type": "code",
   "source": [
    "# Merge the properties datasets\n",
    "properties = pd.concat([properties_2016, properties_2017], axis=0) # TODO occhio a istanze ripetute\n",
    "transactions =  pd.concat([properties_2016, properties_2017], axis=0)"
   ],
   "metadata": {
    "id": "sNILhnh59s9Q"
   },
   "execution_count": 14,
   "outputs": []
  },
  {
   "cell_type": "code",
   "source": [
    "# Delete datasets that I'll not use (I need a lot of memory)\n",
    "del properties_2016, properties_2017, transactions_2016, transactions_2017"
   ],
   "metadata": {
    "id": "Czix8ira9wz6"
   },
   "execution_count": 15,
   "outputs": []
  },
  {
   "cell_type": "markdown",
   "source": [
    "## Explorative analysis of `properties` dataset"
   ],
   "metadata": {
    "collapsed": false
   }
  },
  {
   "cell_type": "markdown",
   "source": [
    "### Dataset exploration"
   ],
   "metadata": {
    "id": "NzmQjV3B00OG"
   }
  },
  {
   "cell_type": "markdown",
   "source": [
    "I can alredy imagine a problem: some houses are repeated on the dataset of 2016 and 2017. In order to save memory, it's a good idea to keep only one house if they are exacly the same."
   ],
   "metadata": {
    "collapsed": false
   }
  },
  {
   "cell_type": "code",
   "source": [
    "# Drop duplicates on concatenated property dataset\n",
    "print(f\"#Properties rows before duplicate removal: {properties.shape[0]}\")\n",
    "properties.drop_duplicates(keep='first',inplace=True)\n",
    "print(f\"#Properties rows after duplicate removal: {properties.shape[0]}\")\n",
    "print(f\"Properties has {properties.duplicated(subset=['parcelid'], keep=False).sum()} houses repeated with differents attributes [{round(properties.duplicated(subset=['parcelid'], keep=False).sum() * 100 / properties.shape[0] ,2)}% of data]\")"
   ],
   "metadata": {
    "colab": {
     "base_uri": "https://localhost:8080/"
    },
    "id": "82nopGN1mpD1",
    "outputId": "f58a93d0-c564-4163-cbfe-a5602114e2cb"
   },
   "execution_count": 163,
   "outputs": [
    {
     "name": "stdout",
     "output_type": "stream",
     "text": [
      "#Properties rows before duplicate removal: 199879\n",
      "#Properties rows after duplicate removal: 199879\n",
      "Properties has 199020 houses repeated with differents attributes [99.57% of data]\n"
     ]
    }
   ]
  },
  {
   "cell_type": "markdown",
   "source": [
    "It seems that many houses are repeated, but with different values in some columns. Let's have a look on some record in order to have a more clear idea on what's happening:"
   ],
   "metadata": {
    "collapsed": false
   }
  },
  {
   "cell_type": "code",
   "execution_count": 71,
   "outputs": [
    {
     "data": {
      "text/plain": "       parcelid  airconditioningtypeid  architecturalstyletypeid  \\\n58104  10711745                    1.0                       NaN   \n58273  10711745                    1.0                       NaN   \n43294  10711767                    NaN                       NaN   \n43167  10711767                    NaN                       NaN   \n28470  10711789                    NaN                       NaN   \n28385  10711789                    NaN                       NaN   \n73149  10711869                    NaN                       NaN   \n72945  10711869                    NaN                       NaN   \n58274  10711891                    1.0                       NaN   \n58105  10711891                    1.0                       NaN   \n\n       basementsqft  bathroomcnt  bedroomcnt  buildingclasstypeid  \\\n58104           NaN          3.0         4.0                  NaN   \n58273           NaN          3.0         4.0                  NaN   \n43294           NaN          3.0         3.0                  NaN   \n43167           NaN          3.0         3.0                  NaN   \n28470           NaN          3.0         3.0                  NaN   \n28385           NaN          3.0         3.0                  NaN   \n73149           NaN          2.0         4.0                  NaN   \n72945           NaN          2.0         4.0                  NaN   \n58274           NaN          2.0         4.0                  NaN   \n58105           NaN          2.0         4.0                  NaN   \n\n       buildingqualitytypeid  calculatedbathnbr  decktypeid  ...  \\\n58104                    4.0                3.0         NaN  ...   \n58273                    8.0                3.0         NaN  ...   \n43294                    8.0                3.0         NaN  ...   \n43167                    4.0                3.0         NaN  ...   \n28470                    8.0                3.0         NaN  ...   \n28385                    4.0                3.0         NaN  ...   \n73149                    8.0                2.0         NaN  ...   \n72945                    4.0                2.0         NaN  ...   \n58274                    8.0                2.0         NaN  ...   \n58105                    4.0                2.0         NaN  ...   \n\n       numberofstories  fireplaceflag  structuretaxvaluedollarcnt  \\\n58104              NaN            NaN                    237085.0   \n58273              NaN            NaN                    240700.0   \n43294              NaN            NaN                    181354.0   \n43167              NaN            NaN                    178630.0   \n28470              NaN            NaN                    147018.0   \n28385              NaN            NaN                    144810.0   \n73149              NaN            NaN                    126744.0   \n72945              NaN            NaN                    124841.0   \n58274              NaN            NaN                    145666.0   \n58105              NaN            NaN                    143478.0   \n\n       taxvaluedollarcnt  assessmentyear  landtaxvaluedollarcnt  taxamount  \\\n58104           457619.0            2015               220534.0    5863.18   \n58273           464597.0            2016               223897.0    5863.18   \n43294           373108.0            2016               191754.0    4642.73   \n43167           367504.0            2015               188874.0    4642.73   \n28470           296477.0            2016               149459.0    3798.51   \n28385           292024.0            2015               147214.0    3798.51   \n73149           452425.0            2016               325681.0    5659.19   \n72945           445630.0            2015               320789.0    5659.19   \n58274           299292.0            2016               153626.0    3743.10   \n58105           294797.0            2015               151319.0    3743.10   \n\n       taxdelinquencyflag  taxdelinquencyyear  censustractandblock  \n58104                 NaN                 NaN         6.037113e+13  \n58273                 NaN                 NaN         6.037113e+13  \n43294                 NaN                 NaN         6.037113e+13  \n43167                 NaN                 NaN         6.037113e+13  \n28470                 NaN                 NaN         6.037113e+13  \n28385                 NaN                 NaN         6.037113e+13  \n73149                 NaN                 NaN         6.037113e+13  \n72945                 NaN                 NaN         6.037113e+13  \n58274                 NaN                 NaN         6.037113e+13  \n58105                 NaN                 NaN         6.037113e+13  \n\n[10 rows x 58 columns]",
      "text/html": "<div>\n<style scoped>\n    .dataframe tbody tr th:only-of-type {\n        vertical-align: middle;\n    }\n\n    .dataframe tbody tr th {\n        vertical-align: top;\n    }\n\n    .dataframe thead th {\n        text-align: right;\n    }\n</style>\n<table border=\"1\" class=\"dataframe\">\n  <thead>\n    <tr style=\"text-align: right;\">\n      <th></th>\n      <th>parcelid</th>\n      <th>airconditioningtypeid</th>\n      <th>architecturalstyletypeid</th>\n      <th>basementsqft</th>\n      <th>bathroomcnt</th>\n      <th>bedroomcnt</th>\n      <th>buildingclasstypeid</th>\n      <th>buildingqualitytypeid</th>\n      <th>calculatedbathnbr</th>\n      <th>decktypeid</th>\n      <th>...</th>\n      <th>numberofstories</th>\n      <th>fireplaceflag</th>\n      <th>structuretaxvaluedollarcnt</th>\n      <th>taxvaluedollarcnt</th>\n      <th>assessmentyear</th>\n      <th>landtaxvaluedollarcnt</th>\n      <th>taxamount</th>\n      <th>taxdelinquencyflag</th>\n      <th>taxdelinquencyyear</th>\n      <th>censustractandblock</th>\n    </tr>\n  </thead>\n  <tbody>\n    <tr>\n      <th>58104</th>\n      <td>10711745</td>\n      <td>1.0</td>\n      <td>NaN</td>\n      <td>NaN</td>\n      <td>3.0</td>\n      <td>4.0</td>\n      <td>NaN</td>\n      <td>4.0</td>\n      <td>3.0</td>\n      <td>NaN</td>\n      <td>...</td>\n      <td>NaN</td>\n      <td>NaN</td>\n      <td>237085.0</td>\n      <td>457619.0</td>\n      <td>2015</td>\n      <td>220534.0</td>\n      <td>5863.18</td>\n      <td>NaN</td>\n      <td>NaN</td>\n      <td>6.037113e+13</td>\n    </tr>\n    <tr>\n      <th>58273</th>\n      <td>10711745</td>\n      <td>1.0</td>\n      <td>NaN</td>\n      <td>NaN</td>\n      <td>3.0</td>\n      <td>4.0</td>\n      <td>NaN</td>\n      <td>8.0</td>\n      <td>3.0</td>\n      <td>NaN</td>\n      <td>...</td>\n      <td>NaN</td>\n      <td>NaN</td>\n      <td>240700.0</td>\n      <td>464597.0</td>\n      <td>2016</td>\n      <td>223897.0</td>\n      <td>5863.18</td>\n      <td>NaN</td>\n      <td>NaN</td>\n      <td>6.037113e+13</td>\n    </tr>\n    <tr>\n      <th>43294</th>\n      <td>10711767</td>\n      <td>NaN</td>\n      <td>NaN</td>\n      <td>NaN</td>\n      <td>3.0</td>\n      <td>3.0</td>\n      <td>NaN</td>\n      <td>8.0</td>\n      <td>3.0</td>\n      <td>NaN</td>\n      <td>...</td>\n      <td>NaN</td>\n      <td>NaN</td>\n      <td>181354.0</td>\n      <td>373108.0</td>\n      <td>2016</td>\n      <td>191754.0</td>\n      <td>4642.73</td>\n      <td>NaN</td>\n      <td>NaN</td>\n      <td>6.037113e+13</td>\n    </tr>\n    <tr>\n      <th>43167</th>\n      <td>10711767</td>\n      <td>NaN</td>\n      <td>NaN</td>\n      <td>NaN</td>\n      <td>3.0</td>\n      <td>3.0</td>\n      <td>NaN</td>\n      <td>4.0</td>\n      <td>3.0</td>\n      <td>NaN</td>\n      <td>...</td>\n      <td>NaN</td>\n      <td>NaN</td>\n      <td>178630.0</td>\n      <td>367504.0</td>\n      <td>2015</td>\n      <td>188874.0</td>\n      <td>4642.73</td>\n      <td>NaN</td>\n      <td>NaN</td>\n      <td>6.037113e+13</td>\n    </tr>\n    <tr>\n      <th>28470</th>\n      <td>10711789</td>\n      <td>NaN</td>\n      <td>NaN</td>\n      <td>NaN</td>\n      <td>3.0</td>\n      <td>3.0</td>\n      <td>NaN</td>\n      <td>8.0</td>\n      <td>3.0</td>\n      <td>NaN</td>\n      <td>...</td>\n      <td>NaN</td>\n      <td>NaN</td>\n      <td>147018.0</td>\n      <td>296477.0</td>\n      <td>2016</td>\n      <td>149459.0</td>\n      <td>3798.51</td>\n      <td>NaN</td>\n      <td>NaN</td>\n      <td>6.037113e+13</td>\n    </tr>\n    <tr>\n      <th>28385</th>\n      <td>10711789</td>\n      <td>NaN</td>\n      <td>NaN</td>\n      <td>NaN</td>\n      <td>3.0</td>\n      <td>3.0</td>\n      <td>NaN</td>\n      <td>4.0</td>\n      <td>3.0</td>\n      <td>NaN</td>\n      <td>...</td>\n      <td>NaN</td>\n      <td>NaN</td>\n      <td>144810.0</td>\n      <td>292024.0</td>\n      <td>2015</td>\n      <td>147214.0</td>\n      <td>3798.51</td>\n      <td>NaN</td>\n      <td>NaN</td>\n      <td>6.037113e+13</td>\n    </tr>\n    <tr>\n      <th>73149</th>\n      <td>10711869</td>\n      <td>NaN</td>\n      <td>NaN</td>\n      <td>NaN</td>\n      <td>2.0</td>\n      <td>4.0</td>\n      <td>NaN</td>\n      <td>8.0</td>\n      <td>2.0</td>\n      <td>NaN</td>\n      <td>...</td>\n      <td>NaN</td>\n      <td>NaN</td>\n      <td>126744.0</td>\n      <td>452425.0</td>\n      <td>2016</td>\n      <td>325681.0</td>\n      <td>5659.19</td>\n      <td>NaN</td>\n      <td>NaN</td>\n      <td>6.037113e+13</td>\n    </tr>\n    <tr>\n      <th>72945</th>\n      <td>10711869</td>\n      <td>NaN</td>\n      <td>NaN</td>\n      <td>NaN</td>\n      <td>2.0</td>\n      <td>4.0</td>\n      <td>NaN</td>\n      <td>4.0</td>\n      <td>2.0</td>\n      <td>NaN</td>\n      <td>...</td>\n      <td>NaN</td>\n      <td>NaN</td>\n      <td>124841.0</td>\n      <td>445630.0</td>\n      <td>2015</td>\n      <td>320789.0</td>\n      <td>5659.19</td>\n      <td>NaN</td>\n      <td>NaN</td>\n      <td>6.037113e+13</td>\n    </tr>\n    <tr>\n      <th>58274</th>\n      <td>10711891</td>\n      <td>1.0</td>\n      <td>NaN</td>\n      <td>NaN</td>\n      <td>2.0</td>\n      <td>4.0</td>\n      <td>NaN</td>\n      <td>8.0</td>\n      <td>2.0</td>\n      <td>NaN</td>\n      <td>...</td>\n      <td>NaN</td>\n      <td>NaN</td>\n      <td>145666.0</td>\n      <td>299292.0</td>\n      <td>2016</td>\n      <td>153626.0</td>\n      <td>3743.10</td>\n      <td>NaN</td>\n      <td>NaN</td>\n      <td>6.037113e+13</td>\n    </tr>\n    <tr>\n      <th>58105</th>\n      <td>10711891</td>\n      <td>1.0</td>\n      <td>NaN</td>\n      <td>NaN</td>\n      <td>2.0</td>\n      <td>4.0</td>\n      <td>NaN</td>\n      <td>4.0</td>\n      <td>2.0</td>\n      <td>NaN</td>\n      <td>...</td>\n      <td>NaN</td>\n      <td>NaN</td>\n      <td>143478.0</td>\n      <td>294797.0</td>\n      <td>2015</td>\n      <td>151319.0</td>\n      <td>3743.10</td>\n      <td>NaN</td>\n      <td>NaN</td>\n      <td>6.037113e+13</td>\n    </tr>\n  </tbody>\n</table>\n<p>10 rows × 58 columns</p>\n</div>"
     },
     "execution_count": 71,
     "metadata": {},
     "output_type": "execute_result"
    }
   ],
   "source": [
    "properties[properties.duplicated(subset=['parcelid'], keep=False)].sort_values(by='parcelid').iloc[0:10]"
   ],
   "metadata": {
    "collapsed": false,
    "pycharm": {
     "name": "#%%\n"
    }
   }
  },
  {
   "cell_type": "markdown",
   "source": [
    "We can notice that many houses are duplicated; some houses are exactly the same over 2016 and 2017 and other has changed. Taking a brief look at the data, the changes mainly involve columns like `structuretaxdollarcnt`, `taxvaluedollarcnt` and `landtaxvaluedollarcnt`, that is normal that change over the years.\n",
    "I came at the conlusion that this duplicated but slightly different rows can be both removed and keep, for different reasons:\n",
    "- it's a good idea to remove them because you basically have half the data to manage, but at the same time\n",
    "- it's a good idea to keep them in order to have a better prediction over different years\n",
    "\n",
    "I go for the second option, since the aim of the project is give predictions for different time periods."
   ],
   "metadata": {
    "collapsed": false
   }
  },
  {
   "cell_type": "markdown",
   "source": [
    "### Data type exploration\n",
    "\n",
    "First I print all the types of the columns to make sure there is no unusual or strange type to deal with"
   ],
   "metadata": {
    "collapsed": false
   }
  },
  {
   "cell_type": "code",
   "execution_count": 164,
   "outputs": [
    {
     "name": "stdout",
     "output_type": "stream",
     "text": [
      "0 | parcelid: int64\n",
      "1 | airconditioningtypeid: float64\n",
      "2 | architecturalstyletypeid: float64\n",
      "3 | basementsqft: float64\n",
      "4 | bathroomcnt: float64\n",
      "5 | bedroomcnt: float64\n",
      "6 | buildingclasstypeid: float64\n",
      "7 | buildingqualitytypeid: float64\n",
      "8 | calculatedbathnbr: float64\n",
      "9 | decktypeid: float64\n",
      "10 | finishedfloor1squarefeet: float64\n",
      "11 | calculatedfinishedsquarefeet: float64\n",
      "12 | finishedsquarefeet12: float64\n",
      "13 | finishedsquarefeet13: float64\n",
      "14 | finishedsquarefeet15: float64\n",
      "15 | finishedsquarefeet50: float64\n",
      "16 | finishedsquarefeet6: float64\n",
      "17 | fips: int64\n",
      "18 | fireplacecnt: float64\n",
      "19 | fullbathcnt: float64\n",
      "20 | garagecarcnt: float64\n",
      "21 | garagetotalsqft: float64\n",
      "22 | hashottuborspa: object\n",
      "23 | heatingorsystemtypeid: float64\n",
      "24 | latitude: int64\n",
      "25 | longitude: int64\n",
      "26 | lotsizesquarefeet: float64\n",
      "27 | poolcnt: float64\n",
      "28 | poolsizesum: float64\n",
      "29 | pooltypeid10: float64\n",
      "30 | pooltypeid2: float64\n",
      "31 | pooltypeid7: float64\n",
      "32 | propertycountylandusecode: object\n",
      "33 | propertylandusetypeid: int64\n",
      "34 | propertyzoningdesc: object\n",
      "35 | rawcensustractandblock: float64\n",
      "36 | regionidcity: float64\n",
      "37 | regionidcounty: int64\n",
      "38 | regionidneighborhood: float64\n",
      "39 | regionidzip: float64\n",
      "40 | roomcnt: float64\n",
      "41 | storytypeid: float64\n",
      "42 | threequarterbathnbr: float64\n",
      "43 | typeconstructiontypeid: float64\n",
      "44 | unitcnt: float64\n",
      "45 | yardbuildingsqft17: float64\n",
      "46 | yardbuildingsqft26: float64\n",
      "47 | yearbuilt: float64\n",
      "48 | numberofstories: float64\n",
      "49 | fireplaceflag: object\n",
      "50 | structuretaxvaluedollarcnt: float64\n",
      "51 | taxvaluedollarcnt: float64\n",
      "52 | assessmentyear: int64\n",
      "53 | landtaxvaluedollarcnt: float64\n",
      "54 | taxamount: float64\n",
      "55 | taxdelinquencyflag: object\n",
      "56 | taxdelinquencyyear: float64\n",
      "57 | censustractandblock: float64\n"
     ]
    }
   ],
   "source": [
    "for col in properties.columns:\n",
    "    print(f\"{properties.columns.get_loc(col)} | {col}: {properties[col].dtype}\")"
   ],
   "metadata": {
    "collapsed": false,
    "pycharm": {
     "name": "#%%\n"
    }
   }
  },
  {
   "cell_type": "markdown",
   "source": [
    "Types are int64, float64 and object\n",
    "I think it's a good idea to switch from int64 to int32 and from float64 to float32, since the ensure enough precision for the task we are required to perform."
   ],
   "metadata": {
    "collapsed": false
   }
  },
  {
   "cell_type": "code",
   "execution_count": 177,
   "outputs": [
    {
     "name": "stdout",
     "output_type": "stream",
     "text": [
      "size of properties before: 128.36 MB\n",
      "convert parcelid form int64 to int32\n",
      "convert airconditioningtypeid form float64 to float32\n",
      "convert architecturalstyletypeid form float64 to float32\n",
      "convert basementsqft form float64 to float32\n",
      "convert bathroomcnt form float64 to float32\n",
      "convert bedroomcnt form float64 to float32\n",
      "convert buildingclasstypeid form float64 to float32\n",
      "convert buildingqualitytypeid form float64 to float32\n",
      "convert calculatedbathnbr form float64 to float32\n",
      "convert decktypeid form float64 to float32\n",
      "convert finishedfloor1squarefeet form float64 to float32\n",
      "convert calculatedfinishedsquarefeet form float64 to float32\n",
      "convert finishedsquarefeet12 form float64 to float32\n",
      "convert finishedsquarefeet13 form float64 to float32\n",
      "convert finishedsquarefeet15 form float64 to float32\n",
      "convert finishedsquarefeet50 form float64 to float32\n",
      "convert finishedsquarefeet6 form float64 to float32\n",
      "convert fips form int64 to int32\n",
      "convert fireplacecnt form float64 to float32\n",
      "convert fullbathcnt form float64 to float32\n",
      "convert garagecarcnt form float64 to float32\n",
      "convert garagetotalsqft form float64 to float32\n",
      "skip hashottuborspa\n",
      "convert heatingorsystemtypeid form float64 to float32\n",
      "convert latitude form int64 to int32\n",
      "convert longitude form int64 to int32\n",
      "convert lotsizesquarefeet form float64 to float32\n",
      "convert poolcnt form float64 to float32\n",
      "convert poolsizesum form float64 to float32\n",
      "convert pooltypeid10 form float64 to float32\n",
      "convert pooltypeid2 form float64 to float32\n",
      "convert pooltypeid7 form float64 to float32\n",
      "skip propertycountylandusecode\n",
      "convert propertylandusetypeid form int64 to int32\n",
      "skip propertyzoningdesc\n",
      "convert rawcensustractandblock form float64 to float32\n",
      "convert regionidcity form float64 to float32\n",
      "convert regionidcounty form int64 to int32\n",
      "convert regionidneighborhood form float64 to float32\n",
      "convert regionidzip form float64 to float32\n",
      "convert roomcnt form float64 to float32\n",
      "convert storytypeid form float64 to float32\n",
      "convert threequarterbathnbr form float64 to float32\n",
      "convert typeconstructiontypeid form float64 to float32\n",
      "convert unitcnt form float64 to float32\n",
      "convert yardbuildingsqft17 form float64 to float32\n",
      "convert yardbuildingsqft26 form float64 to float32\n",
      "convert yearbuilt form float64 to float32\n",
      "convert numberofstories form float64 to float32\n",
      "skip fireplaceflag\n",
      "convert structuretaxvaluedollarcnt form float64 to float32\n",
      "convert taxvaluedollarcnt form float64 to float32\n",
      "convert assessmentyear form int64 to int32\n",
      "convert landtaxvaluedollarcnt form float64 to float32\n",
      "convert taxamount form float64 to float32\n",
      "skip taxdelinquencyflag\n",
      "convert taxdelinquencyyear form float64 to float32\n",
      "convert censustractandblock form float64 to float32\n",
      "size of properties after: 85.99 MB\n"
     ]
    }
   ],
   "source": [
    "from sys import getsizeof\n",
    "\n",
    "print(f\"size of properties before: {round(getsizeof(properties)/1000000, 2)} MB\")\n",
    "for col in properties.columns:\n",
    "    if properties[col].dtype == 'int64':\n",
    "        print(f\"convert {col} form int64 to int32\")\n",
    "        properties[col] = properties[col].astype('int32')\n",
    "    elif properties[col].dtype == 'float64':\n",
    "        print(f\"convert {col} form float64 to float32\")\n",
    "        properties[col] = properties[col].astype('float32')\n",
    "    else:\n",
    "        print(f\"skip {col}\")\n",
    "print(f\"size of properties after: {round(getsizeof(properties)/1000000, 2)} MB\")"
   ],
   "metadata": {
    "collapsed": false,
    "pycharm": {
     "name": "#%%\n"
    }
   }
  },
  {
   "cell_type": "markdown",
   "source": [
    "The saved space is significant, so maybe I can use this space to upload more data in order to have better models."
   ],
   "metadata": {
    "collapsed": false
   }
  },
  {
   "cell_type": "markdown",
   "source": [
    "### Charts & visualization"
   ],
   "metadata": {
    "collapsed": false
   }
  },
  {
   "cell_type": "markdown",
   "source": [
    "#### Visualization of missing values\n",
    "Let's visualize the percentual of missing values for each column. To avoid to print all column, let's set a threshold"
   ],
   "metadata": {
    "collapsed": false
   }
  },
  {
   "cell_type": "code",
   "execution_count": 200,
   "outputs": [
    {
     "name": "stdout",
     "output_type": "stream",
     "text": [
      "+--------------------------+------------------+\n",
      "|          Column          | % missing values |\n",
      "+==========================+==================+\n",
      "| architecturalstyletypeid | 99.82%           |\n",
      "+--------------------------+------------------+\n",
      "| basementsqft             | 99.95%           |\n",
      "+--------------------------+------------------+\n",
      "| buildingclasstypeid      | 99.56%           |\n",
      "+--------------------------+------------------+\n",
      "| decktypeid               | 99.41%           |\n",
      "+--------------------------+------------------+\n",
      "| finishedfloor1squarefeet | 93.0%            |\n",
      "+--------------------------+------------------+\n",
      "| finishedsquarefeet13     | 99.72%           |\n",
      "+--------------------------+------------------+\n",
      "| finishedsquarefeet15     | 93.44%           |\n",
      "+--------------------------+------------------+\n",
      "| finishedsquarefeet50     | 93.0%            |\n",
      "+--------------------------+------------------+\n",
      "| finishedsquarefeet6      | 99.31%           |\n",
      "+--------------------------+------------------+\n",
      "| hashottuborspa           | 98.17%           |\n",
      "+--------------------------+------------------+\n",
      "| poolsizesum              | 99.07%           |\n",
      "+--------------------------+------------------+\n",
      "| pooltypeid10             | 99.17%           |\n",
      "+--------------------------+------------------+\n",
      "| pooltypeid2              | 99.0%            |\n",
      "+--------------------------+------------------+\n",
      "| storytypeid              | 99.95%           |\n",
      "+--------------------------+------------------+\n",
      "| threequarterbathnbr      | 90.12%           |\n",
      "+--------------------------+------------------+\n",
      "| typeconstructiontypeid   | 99.8%            |\n",
      "+--------------------------+------------------+\n",
      "| yardbuildingsqft17       | 97.2%            |\n",
      "+--------------------------+------------------+\n",
      "| yardbuildingsqft26       | 99.92%           |\n",
      "+--------------------------+------------------+\n",
      "| fireplaceflag            | 99.85%           |\n",
      "+--------------------------+------------------+\n",
      "| taxdelinquencyflag       | 98.03%           |\n",
      "+--------------------------+------------------+\n",
      "| taxdelinquencyyear       | 98.03%           |\n",
      "+--------------------------+------------------+\n"
     ]
    }
   ],
   "source": [
    "from texttable import Texttable\n",
    "threshold = 0.90\n",
    "t = Texttable()\n",
    "t.add_rows([['Column', '% missing values']])\n",
    "for col in properties.columns:\n",
    "    current_threshold = properties[col].isna().sum()/properties.shape[0]\n",
    "    if current_threshold > threshold:\n",
    "        t.add_row([col, f'{round(current_threshold*100,2)}%'])\n",
    "print(t.draw())"
   ],
   "metadata": {
    "collapsed": false,
    "pycharm": {
     "name": "#%%\n"
    }
   }
  },
  {
   "cell_type": "markdown",
   "source": [
    "I thik it can be a good idea to remove some column that have really few data and I don't have any good idea on how to fill the NaN with intelligent values.\n",
    "I remove basementsqft, buildingclasstypeid, decktypeid, storytypeid,yardbuildingsqft17, yardbuildingsqft26, taxdelinquencyflag, taxdelinquencyyear.\n",
    "I keep the other because they can be useful. For some columns will be trivial to fill the NaN (for example, for pools, NaN will become 0), for others such as finishedfloor, it'll be much harder. O forse è meglio toglierlo?"
   ],
   "metadata": {
    "collapsed": false
   }
  },
  {
   "cell_type": "markdown",
   "source": [
    "#### Charts on correlation\n",
    "Let's visualize the correlation between columns through a heatmap"
   ],
   "metadata": {
    "collapsed": false
   }
  },
  {
   "cell_type": "markdown",
   "source": [
    "#### Charts on variable distributions\n",
    "Let's visualize the distribution of each column, in order to understand how data is distributed and if there are outliers"
   ],
   "metadata": {
    "collapsed": false
   }
  },
  {
   "cell_type": "markdown",
   "source": [
    "#### Charts of #levels for categorical columns\n",
    "For categorical columns, let's visualize the number of levels, in order to have an idea if it's feasible to perform one-hot-encoding"
   ],
   "metadata": {
    "collapsed": false
   }
  },
  {
   "cell_type": "markdown",
   "source": [
    "#### Visualization of columns that has one unique value\n",
    "Since they don't provide any useful information, they should be removed"
   ],
   "metadata": {
    "collapsed": false
   }
  },
  {
   "cell_type": "markdown",
   "source": [],
   "metadata": {
    "collapsed": false
   }
  },
  {
   "cell_type": "markdown",
   "source": [
    "## Explorative analysis of `transactions` dataset"
   ],
   "metadata": {
    "collapsed": false
   }
  },
  {
   "cell_type": "markdown",
   "source": [
    "## Joining datasets and exporting data to create models"
   ],
   "metadata": {
    "collapsed": false
   }
  },
  {
   "cell_type": "markdown",
   "source": [
    "Joino i dataset e li esporto tipo in .csv al fine di avere i dati pronti per la creazione dei modelli"
   ],
   "metadata": {
    "collapsed": false
   }
  },
  {
   "cell_type": "markdown",
   "source": [
    "\n",
    "\n",
    "\n",
    "\n",
    "Useful resources:\n",
    "- https://stackoverflow.com/questions/15819050/pandas-dataframe-concat-vs-append\n"
   ],
   "metadata": {
    "id": "BgF3InVe6gTg"
   }
  }
 ]
}